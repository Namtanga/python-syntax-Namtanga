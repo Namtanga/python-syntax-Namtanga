{
  "nbformat": 4,
  "nbformat_minor": 0,
  "metadata": {
    "colab": {
      "provenance": [],
      "authorship_tag": "ABX9TyP0vv5DAPjUcgk30nvNfEoX",
      "include_colab_link": true
    },
    "kernelspec": {
      "name": "python3",
      "display_name": "Python 3"
    },
    "language_info": {
      "name": "python"
    }
  },
  "cells": [
    {
      "cell_type": "markdown",
      "metadata": {
        "id": "view-in-github",
        "colab_type": "text"
      },
      "source": [
        "<a href=\"https://colab.research.google.com/github/Namtanga/python-syntax-Namtanga/blob/main/Assignment.ipynb\" target=\"_parent\"><img src=\"https://colab.research.google.com/assets/colab-badge.svg\" alt=\"Open In Colab\"/></a>"
      ]
    },
    {
      "cell_type": "code",
      "execution_count": 5,
      "metadata": {
        "id": "DgkxwqHyQ4Zl"
      },
      "outputs": [],
      "source": [
        "# Part 1: Python Syntax\n",
        "\n",
        "def format_string(name, age):\n",
        "    \"\"\"\n",
        "    Create a formatted string using f-strings.\n",
        "    Return \"My name is {name} and I am {age} years old\".\n",
        "    \"\"\"\n",
        "    return f\"My name is {name} and I am {age} years old\"\n",
        "\n",
        "def conditional_check(number):\n",
        "    \"\"\"\n",
        "    Check the number and return appropriate result.\n",
        "    \"\"\"\n",
        "    if number > 10:\n",
        "        return \"Greater\"\n",
        "    elif number < 10:\n",
        "        return \"Lesser\"\n",
        "    else:\n",
        "        return \"Equal\"\n",
        "\n",
        "def loop_sum(n):\n",
        "    \"\"\"\n",
        "    Use a loop to sum numbers from 1 to n.\n",
        "    Return the sum.\n",
        "    \"\"\"\n",
        "    total = 0\n",
        "    for i in range(1, n + 1):\n",
        "        total += i\n",
        "    return total\n",
        "\n",
        "# Part 2: Data Structures\n",
        "\n",
        "def list_operations(numbers):\n",
        "    \"\"\"\n",
        "    Take a list of numbers and return a tuple containing:\n",
        "    Sum of all numbers, Maximum number, Minimum number.\n",
        "    \"\"\"\n",
        "    return (sum(numbers), max(numbers), min(numbers))\n",
        "\n",
        "def dict_operations(students_dict):\n",
        "    \"\"\"\n",
        "    Take a dictionary of student names and scores.\n",
        "    Return a list of names of students who scored above 80.\n",
        "    \"\"\"\n",
        "    return [name for name, score in students_dict.items() if score > 80]\n",
        "\n",
        "def set_operations(list1, list2):\n",
        "    \"\"\"\n",
        "    Take two lists and return a set of common elements.\n",
        "    \"\"\"\n",
        "    return set(list1) & set(list2)\n",
        "\n",
        "# Part 3: Operators\n",
        "\n",
        "def arithmetic_ops(a, b):\n",
        "    \"\"\"\n",
        "    Return a dictionary with results of arithmetic operations.\n",
        "    Handle division by zero.\n",
        "    \"\"\"\n",
        "    return {\n",
        "        'sum': a + b,\n",
        "        'difference': a - b,\n",
        "        'product': a * b,\n",
        "        'quotient': a / b if b != 0 else 'undefined'\n",
        "    }\n",
        "\n",
        "def logical_ops(x, y):\n",
        "    \"\"\"\n",
        "    Return a dictionary with results of logical operations.\n",
        "    \"\"\"\n",
        "    return {\n",
        "        'and': x and y,\n",
        "        'or': x or y,\n",
        "        'not_x': not x\n",
        "    }\n",
        "\n",
        "def bitwise_ops(a, b):\n",
        "    \"\"\"\n",
        "    Return a dictionary with results of bitwise operations.\n",
        "    \"\"\"\n",
        "    return {\n",
        "        'and': a & b,\n",
        "        'or': a | b,\n",
        "        'xor': a ^ b\n",
        "    }"
      ]
    }
  ]
}